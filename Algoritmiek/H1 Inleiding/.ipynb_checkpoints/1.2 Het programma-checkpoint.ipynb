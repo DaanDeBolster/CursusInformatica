{
 "cells": [
  {
   "cell_type": "markdown",
   "metadata": {},
   "source": [
    "<div>\n",
    "    <font color=#690027 markdown=\"1\">\n",
    "        <h1>H1.1 Het algoritme</h1> \n",
    "    </font>\n",
    "</div>"
   ]
  },
  {
   "cell_type": "markdown",
   "metadata": {},
   "source": [
    "<div>\n",
    "    <font color=#690027 markdown=\"1\">\n",
    "        <h2>1. Algoritme VS Programma</h2> \n",
    "    </font>\n",
    "</div>"
   ]
  },
  {
   "cell_type": "markdown",
   "metadata": {},
   "source": [
    "Het is belangrijk om het verschil tussen een algoritme en een programma in te zien:\n",
    "- Een algoritme is reeks instructies om een probleem op te lossen\n",
    "- Een programma is een vertaling van een algoritme in een taal die een computer kan verstaan, of een programmeertaal."
   ]
  },
  {
   "cell_type": "markdown",
   "metadata": {},
   "source": [
    "<div>\n",
    "    <font color=#690027 markdown=\"1\">\n",
    "        <h2>2. Programmeertalen</h2> \n",
    "    </font>\n",
    "</div>"
   ]
  },
  {
   "cell_type": "markdown",
   "metadata": {},
   "source": [
    "In dit onderdeel worden verschillende basisbegrippen rond programmeertalen overlopen.\n",
    "\n",
    "> Een **programmeertaal** is taal waarin een gebruiker kan vastleggen hoe een computer een algortitme moet uitvoeren\n",
    "\n",
    "Een programmeertaal  is ontworpen om makkelijk door mensen te worden gebruikt. Ze is dus ook vaak opgebouwd met intuïtieve sleutelwoorden zoals (`if, else, for, while, break, jump, exit`,...).\n",
    "\n",
    "Een computer verstaat uiteraard geen Engels. Een programma in een programmeertaal moet dus vertaald worden naar een andere reeks instructies die door de processor van de computer kan worden verstaan en uitgevoerd. Die reeks instructies noemen we machinetaal. Het programma dat code in een programmeertaal vertaald naar machinetaal noemen we een compiler. Het proces van code naar machinetaal vertalen noemen we compileren."
   ]
  },
  {
   "cell_type": "markdown",
   "metadata": {},
   "source": [
    "<img src=\"../fig/10201.png\" alt=\"Banner\" align=\"left\" width=\"1000\"/><br><br>"
   ]
  },
  {
   "cell_type": "markdown",
   "metadata": {},
   "source": [
    "### Voorbeelden"
   ]
  },
  {
   "cell_type": "markdown",
   "metadata": {},
   "source": [
    "Programmeertalen bestaan in alle geuren en kleuren. Een aantal van de meest gebruikte algemene programmeertalen zijn: "
   ]
  },
  {
   "cell_type": "markdown",
   "metadata": {},
   "source": [
    "<img src=\"../fig/10202.png\" alt=\"Banner\" align=\"left\" width=\"1000\"/><br><br>"
   ]
  },
  {
   "cell_type": "markdown",
   "metadata": {},
   "source": [
    "Een lijst van de meest gebruikte programmeertalen vind je op https://www.stackscale.com/blog/most-popular-programming-languages/#Programming_languages_ranking_2023\n",
    "\n",
    "Vaak worden programmeertalen ontwikkeld voor 1 bepaalde specifieke toepassingen. Zoals bijvoorbeeld:\n",
    "- SQL (standard query language) voor databankbeheer\n",
    "- HTML (hypertext markup lannguage), CSS (cascading style sheets), javascript en typescript voor webontwikkeling\n",
    "- Swift voor app-ontwikkeling\n",
    "- ...\n",
    "\n",
    "En je kan zelf nog specifieker:\n",
    "- ALGOL 68 is een internationale programmeertaal die in zo veel mogelijk talen (naast Engels) wordt vertaald (momenteel Russisch, Duits, Frans, Bulgaars, Japans en zelfs Braille)\n",
    "- Scratch en Google Blockly zijn niet-tekstgebaseerde programmeertalen ontworpen voor kinderen\n",
    "- Brainf¨*ck is een programmeertaal die uit maar 8 symbolen bestaat (https://en.wikipedia.org/wiki/Brainfuck)\n",
    "- ...\n",
    "\n",
    "Je kan gelijk welk computerprogramma dat tekst kan verwerken gebruiken om in te programmeren (MS Word, kladblok, tekstverwerker, notities,...). Uiteraard is het veel makkelijker om hier een gespecialiseerd programma voor te gebruiken.\n",
    "\n",
    "> Een **IDE** (integrated development environment) of **programmeeromgeving** is een tool om je te helpen met een programmeertaal te werken"
   ]
  },
  {
   "cell_type": "markdown",
   "metadata": {},
   "source": [
    "<img src=\"../fig/10203.png\" alt=\"Banner\" align=\"left\" width=\"1000\"/><br><br>"
   ]
  },
  {
   "cell_type": "markdown",
   "metadata": {},
   "source": [
    "<div>\n",
    "    <font color=#690027 markdown=\"1\">\n",
    "        <h2>3. Python</h2> \n",
    "    </font>\n",
    "</div>"
   ]
  },
  {
   "cell_type": "markdown",
   "metadata": {},
   "source": [
    "Python is de programmeertaal die we in dit vak gaan gebruiken. \n",
    "\n",
    "Het werd ontwikkeld in 1991 door Guido Van Rossum en is sinds 2019 de meest gebruikte programmeertaal. De meest recente stabiele versie van Python is Python 3.12.0.\n",
    "\n",
    "De syntax van Python is ontworpen met een sterk oog op intuïtieve en leesbare code. \n",
    "\n",
    "Python bevat veel reeds ingebouwde functionaliteit zoals:\n",
    "- Een **interpreter** die gebruik over verschillende besturingssystemen heen vergemakkelijkt\n",
    "- Een **garbage collector** die geheugen beheert\n",
    "\n",
    "Deze extra functies hebben als nadeel dat ze compileren en laten uitvoeren van Python code vertragen."
   ]
  },
  {
   "cell_type": "markdown",
   "metadata": {},
   "source": [
    "<img src=\"../fig/10204.png\" alt=\"Banner\" align=\"left\" width=\"200\"/><br><br>"
   ]
  },
  {
   "cell_type": "markdown",
   "metadata": {},
   "source": [
    "<div>\n",
    "    <font color=#690027 markdown=\"1\">\n",
    "        <h2>3. Basissyntax van Python</h2> \n",
    "    </font>\n",
    "</div>"
   ]
  },
  {
   "cell_type": "markdown",
   "metadata": {},
   "source": [
    "<div>\n",
    "    <font color=#690027 markdown=\"1\">\n",
    "        <h3>3.1 Console IO</h3> \n",
    "    </font>\n",
    "</div>"
   ]
  },
  {
   "cell_type": "markdown",
   "metadata": {},
   "source": [
    "Console IO wil zeggen, invoer en uitvoer naar de console. We starten in dit hoofdstuk met enkel tekst.\n",
    "\n",
    "> Een **string** is een rij van symbolen in een vaste volgorde. \n",
    "Een string kan in Python worden gedefiniëerd met enkele (`'`) of dubbele (`\"`) aanhalingstekens."
   ]
  },
  {
   "cell_type": "markdown",
   "metadata": {},
   "source": [
    "### Voorbeelden"
   ]
  },
  {
   "cell_type": "code",
   "execution_count": 11,
   "metadata": {},
   "outputs": [
    {
     "data": {
      "text/plain": [
       "'Dit is tekst'"
      ]
     },
     "execution_count": 11,
     "metadata": {},
     "output_type": "execute_result"
    }
   ],
   "source": [
    "'Dit is tekst'"
   ]
  },
  {
   "cell_type": "code",
   "execution_count": 12,
   "metadata": {},
   "outputs": [
    {
     "data": {
      "text/plain": [
       "'Dit is ook tekst'"
      ]
     },
     "execution_count": 12,
     "metadata": {},
     "output_type": "execute_result"
    }
   ],
   "source": [
    "\"Dit is ook tekst\""
   ]
  },
  {
   "cell_type": "markdown",
   "metadata": {},
   "source": [
    "### Opmerking"
   ]
  },
  {
   "cell_type": "markdown",
   "metadata": {},
   "source": [
    "Python is hoofdlettergevoelig. A en a zijn dus verschillende symbolen."
   ]
  },
  {
   "cell_type": "markdown",
   "metadata": {},
   "source": [
    "> Een tekst uitvoeren naar de console kan via het `print` statement."
   ]
  },
  {
   "cell_type": "markdown",
   "metadata": {},
   "source": [
    "### Voorbeelden"
   ]
  },
  {
   "cell_type": "code",
   "execution_count": 13,
   "metadata": {},
   "outputs": [
    {
     "name": "stdout",
     "output_type": "stream",
     "text": [
      "Hello world!\n"
     ]
    }
   ],
   "source": [
    "print(\"Hello world!\")"
   ]
  },
  {
   "cell_type": "markdown",
   "metadata": {},
   "source": [
    "Verschillende teksten op 1 lijn, gescheiden door spaties, op het scherm printen kan als volgt."
   ]
  },
  {
   "cell_type": "code",
   "execution_count": 14,
   "metadata": {},
   "outputs": [
    {
     "name": "stdout",
     "output_type": "stream",
     "text": [
      "Hello world!\n"
     ]
    }
   ],
   "source": [
    "print(\"Hello\", \"world!\")"
   ]
  },
  {
   "cell_type": "markdown",
   "metadata": {},
   "source": [
    "Als laatste kan je ook je tekst in een variabele opslaan via de = operator. En nadien de inhoud van die variabele op het scherm printen."
   ]
  },
  {
   "cell_type": "code",
   "execution_count": 15,
   "metadata": {},
   "outputs": [
    {
     "name": "stdout",
     "output_type": "stream",
     "text": [
      "Hello world!\n"
     ]
    }
   ],
   "source": [
    "a = \"Hello world!\"\n",
    "print(a)"
   ]
  },
  {
   "cell_type": "markdown",
   "metadata": {},
   "source": [
    "Merk op dat deze code uit meerdere instructies bestaat die stap voor stap worden uitgevoerd."
   ]
  },
  {
   "cell_type": "markdown",
   "metadata": {},
   "source": [
    "### Oefening"
   ]
  },
  {
   "cell_type": "markdown",
   "metadata": {},
   "source": [
    "Print je voornaam en familienaam op de console op 3 verschillende manieren."
   ]
  },
  {
   "cell_type": "code",
   "execution_count": null,
   "metadata": {},
   "outputs": [],
   "source": []
  },
  {
   "cell_type": "code",
   "execution_count": null,
   "metadata": {},
   "outputs": [],
   "source": []
  },
  {
   "cell_type": "code",
   "execution_count": null,
   "metadata": {},
   "outputs": [],
   "source": []
  },
  {
   "cell_type": "markdown",
   "metadata": {},
   "source": [
    "> Een tekst invoeren naar de console kan via het `input` statement. Je "
   ]
  },
  {
   "cell_type": "markdown",
   "metadata": {},
   "source": [
    "### Voorbeeld"
   ]
  },
  {
   "cell_type": "markdown",
   "metadata": {},
   "source": [
    "De volgende code vraagt een tekst als invoer, steekt ze in de variabele a en print ze nadien terug op het scherm."
   ]
  },
  {
   "cell_type": "code",
   "execution_count": 16,
   "metadata": {},
   "outputs": [
    {
     "name": "stdout",
     "output_type": "stream",
     "text": [
      "\n",
      "Je ingevoerde tekst is: \n"
     ]
    }
   ],
   "source": [
    "a = input()\n",
    "print(\"Je ingevoerde tekst is:\", a)"
   ]
  },
  {
   "cell_type": "markdown",
   "metadata": {},
   "source": [
    "### Oefening"
   ]
  },
  {
   "cell_type": "markdown",
   "metadata": {},
   "source": [
    "Schrijf een programma dat naar je naam vraagt, en nadien \"Hallo \\<Je naam>\" op het scherm print."
   ]
  },
  {
   "cell_type": "code",
   "execution_count": null,
   "metadata": {},
   "outputs": [],
   "source": []
  },
  {
   "cell_type": "markdown",
   "metadata": {},
   "source": [
    "<div>\n",
    "    <font color=#690027 markdown=\"1\">\n",
    "        <h3>3.2 Commentaar</h3> \n",
    "    </font>\n",
    "</div>"
   ]
  },
  {
   "cell_type": "markdown",
   "metadata": {},
   "source": [
    "> Commentaar is tekst in je code die niet moet worden uitgevoerd.\n",
    "Commentaar schrijven in Python kan met de `#` operator. Alle symbolen op een lijn code waar `#` aan voorafgaat worden door de compiler genegeerd."
   ]
  },
  {
   "cell_type": "markdown",
   "metadata": {},
   "source": [
    "Commentaar wordt zeer vaak gebruikt door programmeurs om hun code te verduidelijken. Schrijf dus steeds nuttige en duidelijke commentaar."
   ]
  },
  {
   "cell_type": "markdown",
   "metadata": {},
   "source": [
    "### Voorbeelden"
   ]
  },
  {
   "cell_type": "code",
   "execution_count": 17,
   "metadata": {},
   "outputs": [],
   "source": [
    "# Dit is commentaar"
   ]
  },
  {
   "cell_type": "markdown",
   "metadata": {},
   "source": [
    "Je kan ook commentaar en code in dezelfde lijn noteren."
   ]
  },
  {
   "cell_type": "code",
   "execution_count": 18,
   "metadata": {},
   "outputs": [
    {
     "name": "stdout",
     "output_type": "stream",
     "text": [
      "Hello world!\n"
     ]
    }
   ],
   "source": [
    "print(\"Hello world!\")  # Deze code print \"Hello world!\" op het scherm"
   ]
  }
 ],
 "metadata": {
  "kernelspec": {
   "display_name": "Python 3 (ipykernel)",
   "language": "python",
   "name": "python3"
  },
  "language_info": {
   "codemirror_mode": {
    "name": "ipython",
    "version": 3
   },
   "file_extension": ".py",
   "mimetype": "text/x-python",
   "name": "python",
   "nbconvert_exporter": "python",
   "pygments_lexer": "ipython3",
   "version": "3.11.5"
  }
 },
 "nbformat": 4,
 "nbformat_minor": 4
}
